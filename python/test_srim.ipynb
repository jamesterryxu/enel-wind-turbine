{
 "cells": [
  {
   "cell_type": "code",
   "execution_count": 1,
   "metadata": {},
   "outputs": [],
   "source": [
    "%load_ext autoreload\n",
    "%autoreload 2"
   ]
  },
  {
   "cell_type": "code",
   "execution_count": 4,
   "metadata": {},
   "outputs": [
    {
     "name": "stdout",
     "output_type": "stream",
     "text": [
      "srim\n",
      "19.637808322906494\n"
     ]
    }
   ],
   "source": [
    "import realize, markov, time, turbinetracker\n",
    "import numpy as np\n",
    "\n",
    "q = 5\n",
    "p = 40\n",
    "nt = 100\n",
    "\n",
    "inputs = np.random.rand(q, nt)\n",
    "outputs = np.random.rand(p, nt)\n",
    "\n",
    "# print('okid')\n",
    "# t0 = time.time()\n",
    "# H = markov.okid(inputs, outputs)\n",
    "# print('era')\n",
    "# A,B,C,D = realize.era(H)\n",
    "# t1 = time.time()\n",
    "# print(t1-t0)\n",
    "\n",
    "print('srim')\n",
    "t0 = time.time()\n",
    "A,B,C,D = realize.srim(inputs, outputs)\n",
    "t1 = time.time()\n",
    "\n",
    "print(t1-t0)\n"
   ]
  },
  {
   "cell_type": "code",
   "execution_count": null,
   "metadata": {},
   "outputs": [],
   "source": []
  }
 ],
 "metadata": {
  "kernelspec": {
   "display_name": "env_cs281",
   "language": "python",
   "name": "python3"
  },
  "language_info": {
   "codemirror_mode": {
    "name": "ipython",
    "version": 3
   },
   "file_extension": ".py",
   "mimetype": "text/x-python",
   "name": "python",
   "nbconvert_exporter": "python",
   "pygments_lexer": "ipython3",
   "version": "3.12.0"
  }
 },
 "nbformat": 4,
 "nbformat_minor": 2
}
