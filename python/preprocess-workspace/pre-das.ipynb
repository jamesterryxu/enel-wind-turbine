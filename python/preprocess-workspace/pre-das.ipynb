{
 "cells": [
  {
   "cell_type": "code",
   "execution_count": 1,
   "metadata": {},
   "outputs": [],
   "source": [
    "%load_ext autoreload\n",
    "%autoreload 2"
   ]
  },
  {
   "cell_type": "code",
   "execution_count": 2,
   "metadata": {},
   "outputs": [],
   "source": [
    "# Makes utils module visible\n",
    "# Note - this is probably bad practice, but will work with this at the moment\n",
    "import sys\n",
    "sys.path.append('../')"
   ]
  },
  {
   "cell_type": "code",
   "execution_count": 3,
   "metadata": {},
   "outputs": [],
   "source": [
    "import csv\n",
    "import pandas as pd\n",
    "import numpy as np\n",
    "\n",
    "from utils.utils import *"
   ]
  },
  {
   "cell_type": "markdown",
   "metadata": {},
   "source": [
    "For now, just decimate the files, will store into dictionary later"
   ]
  },
  {
   "cell_type": "code",
   "execution_count": null,
   "metadata": {},
   "outputs": [],
   "source": [
    "das_dir = r'F:\\enel-data\\short-exp-march-2024\\das\\recording_2024-03-07T12_17_20-0600'\n",
    "batch_decim_to_100(das_dir)\n",
    "concatenate_and_save_h5(directory_to_file=das_dir,\n",
    "                        output_filename='full')"
   ]
  },
  {
   "cell_type": "code",
   "execution_count": null,
   "metadata": {},
   "outputs": [],
   "source": [
    "das_dir = r'F:\\enel-data\\short-exp-march-2024\\das\\recording_2024-03-07T10_28_58-0600'\n",
    "batch_decim_to_100(das_dir)\n",
    "concatenate_and_save_h5(directory_to_file=das_dir,\n",
    "                        output_filename='full')"
   ]
  },
  {
   "cell_type": "code",
   "execution_count": null,
   "metadata": {},
   "outputs": [],
   "source": []
  },
  {
   "cell_type": "markdown",
   "metadata": {},
   "source": [
    "Cut up the decimated files"
   ]
  },
  {
   "cell_type": "code",
   "execution_count": 4,
   "metadata": {},
   "outputs": [
    {
     "name": "stdout",
     "output_type": "stream",
     "text": [
      "(134440, 795)\n",
      "(132994, 20)\n",
      "927 133921\n"
     ]
    }
   ],
   "source": [
    "das_dir = r'F:\\enel-data\\short-exp-march-2024\\das\\recording_2024-03-07T12_56_48-0600'\n",
    "input_file_name = 'sensor_2024-03-07T125650-0600full'\n",
    "output_file_name = 'idle-bc3'\n",
    "\n",
    "test = clean_das_files_odh4(directory_to_file=das_dir,\n",
    "                     input_file_name=input_file_name,\n",
    "                     output_file_name=output_file_name,\n",
    "                     target_time=['2024-03-07 18:57:00', '2024-03-07 19:19:10'])"
   ]
  },
  {
   "cell_type": "code",
   "execution_count": 23,
   "metadata": {},
   "outputs": [],
   "source": [
    "das_dir = r'F:\\enel-data\\short-exp-march-2024\\das\\recording_2024-03-07T14_33_15-0600'\n",
    "input_file_name = 'sensor_2024-03-07T143316-0600full'\n",
    "output_file_name = 'idle-bc4'\n",
    "\n",
    "test = clean_das_files_odh4(directory_to_file=das_dir,\n",
    "                     input_file_name=input_file_name,\n",
    "                     output_file_name=output_file_name,\n",
    "                     target_time=['2024-03-07 20:33:00', '2024-03-07 20:56:40'])"
   ]
  },
  {
   "cell_type": "code",
   "execution_count": null,
   "metadata": {},
   "outputs": [],
   "source": []
  },
  {
   "cell_type": "code",
   "execution_count": null,
   "metadata": {},
   "outputs": [],
   "source": []
  },
  {
   "cell_type": "markdown",
   "metadata": {},
   "source": [
    "Get the min and max strain envelopes"
   ]
  },
  {
   "cell_type": "code",
   "execution_count": 4,
   "metadata": {},
   "outputs": [],
   "source": [
    "das_dir = r'F:\\enel-data\\short-exp-march-2024\\das\\cut-data'\n",
    "input_file_name = 'operation-bc1'\n",
    "\n",
    "min_max_das_data(directory_to_file=das_dir,\n",
    "                 input_file_name=input_file_name)"
   ]
  },
  {
   "cell_type": "code",
   "execution_count": 5,
   "metadata": {},
   "outputs": [],
   "source": [
    "# Checking envelopes\n",
    "das_dir = r'F:\\enel-data\\short-exp-march-2024\\das\\cut-data'\n",
    "input_file_name = 'operation-bc1_envelopes'\n",
    "\n",
    "strain_min,strain_max,_,time = load_min_max_das_data(directory_to_file=das_dir,\n",
    "                                                     input_file_name=input_file_name)"
   ]
  },
  {
   "cell_type": "code",
   "execution_count": 8,
   "metadata": {},
   "outputs": [
    {
     "name": "stdout",
     "output_type": "stream",
     "text": [
      "(20,)\n",
      "[-8.92343933e+07 -3.30818188e+07 -5.81622348e+07 -8.65021288e+07\n",
      " -7.82312404e+07 -2.46855667e+07 -3.29123169e+07 -4.56682628e+07\n",
      " -7.15013182e+07 -7.98863520e+07 -4.52810520e+07 -6.59843326e+07\n",
      " -7.72377216e+07 -3.18823947e+07 -1.10197284e+08 -2.38507955e+07\n",
      " -8.91555950e+07 -6.29269207e+07  1.06199125e+08 -2.39331839e+07]\n",
      "[-8.88473998e+07 -3.25267407e+07 -5.63807360e+07 -8.49571287e+07\n",
      " -7.63904736e+07 -2.28651633e+07 -2.92549340e+07 -4.32397754e+07\n",
      " -6.79601097e+07 -7.80782432e+07 -4.32705461e+07 -6.36608028e+07\n",
      " -7.41209371e+07 -3.06136148e+07 -1.08095995e+08 -2.18445359e+07\n",
      " -8.66432858e+07 -6.11601033e+07  1.07422742e+08 -2.29015229e+07]\n",
      "[ 386993.51030356  555078.14731594 1781498.79500422 1545000.04251778\n",
      " 1840766.86381318 1820403.43221379 3657382.94554148 2428487.39713231\n",
      " 3541208.48976943 1808108.79546948 2010505.83868834 2323529.77834486\n",
      " 3116784.43245082 1268779.9453823  2101289.1238268  2006259.52505044\n",
      " 2512309.1628062  1766817.41579439 1223616.43818341 1031661.01158184]\n"
     ]
    }
   ],
   "source": [
    "print(np.shape(strain_min['bot_a']))\n",
    "print(strain_min['bot_a'])\n",
    "print(strain_max['bot_a'])\n",
    "print((strain_max['bot_a']-strain_min['bot_a']))"
   ]
  },
  {
   "cell_type": "markdown",
   "metadata": {},
   "source": [
    "Now to filter datasets"
   ]
  },
  {
   "cell_type": "code",
   "execution_count": null,
   "metadata": {},
   "outputs": [],
   "source": []
  },
  {
   "cell_type": "code",
   "execution_count": null,
   "metadata": {},
   "outputs": [],
   "source": []
  }
 ],
 "metadata": {
  "kernelspec": {
   "display_name": "base",
   "language": "python",
   "name": "python3"
  },
  "language_info": {
   "codemirror_mode": {
    "name": "ipython",
    "version": 3
   },
   "file_extension": ".py",
   "mimetype": "text/x-python",
   "name": "python",
   "nbconvert_exporter": "python",
   "pygments_lexer": "ipython3",
   "version": "3.8.8"
  }
 },
 "nbformat": 4,
 "nbformat_minor": 2
}
