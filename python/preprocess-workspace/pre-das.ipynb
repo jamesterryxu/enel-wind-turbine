{
 "cells": [
  {
   "cell_type": "code",
   "execution_count": 28,
   "metadata": {},
   "outputs": [
    {
     "name": "stdout",
     "output_type": "stream",
     "text": [
      "The autoreload extension is already loaded. To reload it, use:\n",
      "  %reload_ext autoreload\n"
     ]
    }
   ],
   "source": [
    "%load_ext autoreload\n",
    "%autoreload 2"
   ]
  },
  {
   "cell_type": "code",
   "execution_count": 29,
   "metadata": {},
   "outputs": [],
   "source": [
    "# Makes utils module visible\n",
    "# Note - this is probably bad practice, but will work with this at the moment\n",
    "import sys\n",
    "sys.path.append('../')"
   ]
  },
  {
   "cell_type": "code",
   "execution_count": 30,
   "metadata": {},
   "outputs": [],
   "source": [
    "import csv\n",
    "import pandas as pd\n",
    "import numpy as np\n",
    "\n",
    "from utils.utils import *"
   ]
  },
  {
   "cell_type": "markdown",
   "metadata": {},
   "source": [
    "For now, just decimate the files, will store into dictionary later"
   ]
  },
  {
   "cell_type": "code",
   "execution_count": 17,
   "metadata": {},
   "outputs": [
    {
     "name": "stdout",
     "output_type": "stream",
     "text": [
      "Decimating sensor_2024-03-07T121722-0600.h5\n",
      "sensor_2024-03-07T121722-0600.h5 decimated\n",
      "sensor_2024-03-07T121722-0600_decimated100hz.h5\n"
     ]
    }
   ],
   "source": [
    "das_dir = r'F:\\enel-data\\short-exp-march-2024\\das\\recording_2024-03-07T12_17_20-0600'\n",
    "batch_decim_to_100(das_dir)\n",
    "concatenate_and_save_h5(directory_to_file=das_dir,\n",
    "                        output_filename='full')"
   ]
  },
  {
   "cell_type": "code",
   "execution_count": 21,
   "metadata": {},
   "outputs": [
    {
     "name": "stdout",
     "output_type": "stream",
     "text": [
      "Decimating sensor_2024-03-07T102900-0600.h5\n",
      "sensor_2024-03-07T102900-0600.h5 decimated\n",
      "Decimating sensor_2024-03-07T103900-0600.h5\n",
      "sensor_2024-03-07T103900-0600.h5 decimated\n",
      "Decimating sensor_2024-03-07T104900-0600.h5\n",
      "sensor_2024-03-07T104900-0600.h5 decimated\n",
      "sensor_2024-03-07T102900-0600_decimated100hz.h5\n",
      "sensor_2024-03-07T103900-0600_decimated100hz.h5\n",
      "sensor_2024-03-07T104900-0600_decimated100hz.h5\n"
     ]
    }
   ],
   "source": [
    "das_dir = r'F:\\enel-data\\short-exp-march-2024\\das\\recording_2024-03-07T10_28_58-0600'\n",
    "batch_decim_to_100(das_dir)\n",
    "concatenate_and_save_h5(directory_to_file=das_dir,\n",
    "                        output_filename='full')"
   ]
  },
  {
   "cell_type": "code",
   "execution_count": null,
   "metadata": {},
   "outputs": [],
   "source": []
  },
  {
   "cell_type": "markdown",
   "metadata": {},
   "source": [
    "Cut up the decimated files"
   ]
  },
  {
   "cell_type": "code",
   "execution_count": 31,
   "metadata": {},
   "outputs": [
    {
     "ename": "TypeError",
     "evalue": "unsupported operand type(s) for -: 'Dataset' and 'float'",
     "output_type": "error",
     "traceback": [
      "\u001b[1;31m---------------------------------------------------------------------------\u001b[0m",
      "\u001b[1;31mTypeError\u001b[0m                                 Traceback (most recent call last)",
      "Cell \u001b[1;32mIn[31], line 5\u001b[0m\n\u001b[0;32m      2\u001b[0m input_file_name \u001b[38;5;241m=\u001b[39m \u001b[38;5;124m'\u001b[39m\u001b[38;5;124msensor_2024-03-07T140202-0600full\u001b[39m\u001b[38;5;124m'\u001b[39m\n\u001b[0;32m      3\u001b[0m output_file_name \u001b[38;5;241m=\u001b[39m \u001b[38;5;124m'\u001b[39m\u001b[38;5;124mbolt-loose-bc3-bc4\u001b[39m\u001b[38;5;124m'\u001b[39m\n\u001b[1;32m----> 5\u001b[0m \u001b[43mclean_das_files_odh4\u001b[49m\u001b[43m(\u001b[49m\u001b[43mdirectory_to_file\u001b[49m\u001b[38;5;241;43m=\u001b[39;49m\u001b[43mdas_dir\u001b[49m\u001b[43m,\u001b[49m\n\u001b[0;32m      6\u001b[0m \u001b[43m                     \u001b[49m\u001b[43minput_file_name\u001b[49m\u001b[38;5;241;43m=\u001b[39;49m\u001b[43minput_file_name\u001b[49m\u001b[43m,\u001b[49m\n\u001b[0;32m      7\u001b[0m \u001b[43m                     \u001b[49m\u001b[43moutput_file_name\u001b[49m\u001b[38;5;241;43m=\u001b[39;49m\u001b[43moutput_file_name\u001b[49m\u001b[43m,\u001b[49m\n\u001b[0;32m      8\u001b[0m \u001b[43m                     \u001b[49m\u001b[43mtarget_time\u001b[49m\u001b[38;5;241;43m=\u001b[39;49m\u001b[43m[\u001b[49m\u001b[38;5;124;43m'\u001b[39;49m\u001b[38;5;124;43m2024-03-07 14:02:15\u001b[39;49m\u001b[38;5;124;43m'\u001b[39;49m\u001b[43m,\u001b[49m\u001b[43m \u001b[49m\u001b[38;5;124;43m'\u001b[39;49m\u001b[38;5;124;43m2024-03-07 14:02:30\u001b[39;49m\u001b[38;5;124;43m'\u001b[39;49m\u001b[43m]\u001b[49m\u001b[43m)\u001b[49m\n",
      "File \u001b[1;32mc:\\Users\\jxu20\\Documents\\research\\enel-wind-turbine\\python\\utils\\utils.py:262\u001b[0m, in \u001b[0;36mclean_das_files_odh4\u001b[1;34m(directory_to_file, input_file_name, output_file_name, target_time)\u001b[0m\n\u001b[0;32m    260\u001b[0m unix_time \u001b[38;5;241m=\u001b[39m pd\u001b[38;5;241m.\u001b[39mTimestamp(t)\u001b[38;5;241m.\u001b[39mtimestamp()\n\u001b[0;32m    261\u001b[0m \u001b[38;5;66;03m# Find the index of the closest time in the 'time' array\u001b[39;00m\n\u001b[1;32m--> 262\u001b[0m index \u001b[38;5;241m=\u001b[39m np\u001b[38;5;241m.\u001b[39mabs(\u001b[43mtime\u001b[49m\u001b[43m \u001b[49m\u001b[38;5;241;43m-\u001b[39;49m\u001b[43m \u001b[49m\u001b[43munix_time\u001b[49m)\u001b[38;5;241m.\u001b[39margmin()\n\u001b[0;32m    263\u001b[0m target_time_indices\u001b[38;5;241m.\u001b[39mappend(index)\n",
      "\u001b[1;31mTypeError\u001b[0m: unsupported operand type(s) for -: 'Dataset' and 'float'"
     ]
    }
   ],
   "source": [
    "das_dir = r'F:\\enel-data\\short-exp-march-2024\\das\\recording_2024-03-07T14_02_00-0600'\n",
    "input_file_name = 'sensor_2024-03-07T140202-0600full'\n",
    "output_file_name = 'bolt-loose-bc3-bc4'\n",
    "\n",
    "clean_das_files_odh4(directory_to_file=das_dir,\n",
    "                     input_file_name=input_file_name,\n",
    "                     output_file_name=output_file_name,\n",
    "                     target_time=['2024-03-07 14:02:15', '2024-03-07 14:02:30'])"
   ]
  },
  {
   "cell_type": "code",
   "execution_count": 32,
   "metadata": {},
   "outputs": [],
   "source": [
    "strain, time = load_decim_data(directory_to_file=das_dir,\n",
    "                name_of_file=input_file_name)"
   ]
  },
  {
   "cell_type": "code",
   "execution_count": 35,
   "metadata": {},
   "outputs": [
    {
     "name": "stdout",
     "output_type": "stream",
     "text": [
      "(795, 13312)\n",
      "(13312,)\n",
      "1709841722204030.0\n"
     ]
    }
   ],
   "source": [
    "print(np.shape(strain))\n",
    "print(np.shape(time))\n",
    "print(time[0])"
   ]
  }
 ],
 "metadata": {
  "kernelspec": {
   "display_name": "base",
   "language": "python",
   "name": "python3"
  },
  "language_info": {
   "codemirror_mode": {
    "name": "ipython",
    "version": 3
   },
   "file_extension": ".py",
   "mimetype": "text/x-python",
   "name": "python",
   "nbconvert_exporter": "python",
   "pygments_lexer": "ipython3",
   "version": "3.8.8"
  }
 },
 "nbformat": 4,
 "nbformat_minor": 2
}
