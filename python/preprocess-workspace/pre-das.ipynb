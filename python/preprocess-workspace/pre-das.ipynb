{
 "cells": [
  {
   "cell_type": "code",
   "execution_count": 28,
   "metadata": {},
   "outputs": [
    {
     "name": "stdout",
     "output_type": "stream",
     "text": [
      "The autoreload extension is already loaded. To reload it, use:\n",
      "  %reload_ext autoreload\n"
     ]
    }
   ],
   "source": [
    "%load_ext autoreload\n",
    "%autoreload 2"
   ]
  },
  {
   "cell_type": "code",
   "execution_count": 29,
   "metadata": {},
   "outputs": [],
   "source": [
    "# Makes utils module visible\n",
    "# Note - this is probably bad practice, but will work with this at the moment\n",
    "import sys\n",
    "sys.path.append('../')"
   ]
  },
  {
   "cell_type": "code",
   "execution_count": 30,
   "metadata": {},
   "outputs": [],
   "source": [
    "import csv\n",
    "import pandas as pd\n",
    "import numpy as np\n",
    "\n",
    "from utils.utils import *"
   ]
  },
  {
   "cell_type": "markdown",
   "metadata": {},
   "source": [
    "For now, just decimate the files, will store into dictionary later"
   ]
  },
  {
   "cell_type": "code",
   "execution_count": 17,
   "metadata": {},
   "outputs": [
    {
     "name": "stdout",
     "output_type": "stream",
     "text": [
      "Decimating sensor_2024-03-07T121722-0600.h5\n",
      "sensor_2024-03-07T121722-0600.h5 decimated\n",
      "sensor_2024-03-07T121722-0600_decimated100hz.h5\n"
     ]
    }
   ],
   "source": [
    "das_dir = r'F:\\enel-data\\short-exp-march-2024\\das\\recording_2024-03-07T12_17_20-0600'\n",
    "batch_decim_to_100(das_dir)\n",
    "concatenate_and_save_h5(directory_to_file=das_dir,\n",
    "                        output_filename='full')"
   ]
  },
  {
   "cell_type": "code",
   "execution_count": 21,
   "metadata": {},
   "outputs": [
    {
     "name": "stdout",
     "output_type": "stream",
     "text": [
      "Decimating sensor_2024-03-07T102900-0600.h5\n",
      "sensor_2024-03-07T102900-0600.h5 decimated\n",
      "Decimating sensor_2024-03-07T103900-0600.h5\n",
      "sensor_2024-03-07T103900-0600.h5 decimated\n",
      "Decimating sensor_2024-03-07T104900-0600.h5\n",
      "sensor_2024-03-07T104900-0600.h5 decimated\n",
      "sensor_2024-03-07T102900-0600_decimated100hz.h5\n",
      "sensor_2024-03-07T103900-0600_decimated100hz.h5\n",
      "sensor_2024-03-07T104900-0600_decimated100hz.h5\n"
     ]
    }
   ],
   "source": [
    "das_dir = r'F:\\enel-data\\short-exp-march-2024\\das\\recording_2024-03-07T10_28_58-0600'\n",
    "batch_decim_to_100(das_dir)\n",
    "concatenate_and_save_h5(directory_to_file=das_dir,\n",
    "                        output_filename='full')"
   ]
  },
  {
   "cell_type": "code",
   "execution_count": null,
   "metadata": {},
   "outputs": [],
   "source": []
  },
  {
   "cell_type": "markdown",
   "metadata": {},
   "source": [
    "Cut up the decimated files"
   ]
  },
  {
   "cell_type": "code",
   "execution_count": 63,
   "metadata": {},
   "outputs": [
    {
     "name": "stdout",
     "output_type": "stream",
     "text": [
      "(13312,)\n"
     ]
    }
   ],
   "source": [
    "das_dir = r'F:\\enel-data\\short-exp-march-2024\\das\\recording_2024-03-07T14_02_00-0600'\n",
    "input_file_name = 'sensor_2024-03-07T140202-0600full'\n",
    "output_file_name = 'bolt-loose-bc3-bc4'\n",
    "\n",
    "test = clean_das_files_odh4(directory_to_file=das_dir,\n",
    "                     input_file_name=input_file_name,\n",
    "                     output_file_name=output_file_name,\n",
    "                     target_time=['2024-03-07 20:02:15', '2024-03-07 20:02:30'])"
   ]
  },
  {
   "cell_type": "code",
   "execution_count": 56,
   "metadata": {},
   "outputs": [
    {
     "name": "stdout",
     "output_type": "stream",
     "text": [
      "[2.15722040e+10 2.15722140e+10 2.15722240e+10 ... 2.17052941e+10\n",
      " 2.17053041e+10 2.17053141e+10]\n"
     ]
    }
   ],
   "source": [
    "print(test)"
   ]
  },
  {
   "cell_type": "code",
   "execution_count": null,
   "metadata": {},
   "outputs": [],
   "source": []
  },
  {
   "cell_type": "code",
   "execution_count": 42,
   "metadata": {},
   "outputs": [],
   "source": [
    "strain, time = load_decim_data(directory_to_file=das_dir,\n",
    "                name_of_file=input_file_name)"
   ]
  },
  {
   "cell_type": "code",
   "execution_count": 43,
   "metadata": {},
   "outputs": [
    {
     "name": "stdout",
     "output_type": "stream",
     "text": [
      "(795, 13312)\n",
      "(13312,)\n",
      "1709841722204030.0\n"
     ]
    }
   ],
   "source": [
    "print(np.shape(strain))\n",
    "print(np.shape(time))\n",
    "print(time[0])"
   ]
  },
  {
   "cell_type": "code",
   "execution_count": 51,
   "metadata": {},
   "outputs": [
    {
     "name": "stdout",
     "output_type": "stream",
     "text": [
      "Index of closest time: 2\n",
      "Closest time to target: 1640995220\n"
     ]
    }
   ],
   "source": [
    "# Example: Vector of Unix times (e.g., spaced 10 seconds apart)\n",
    "time = np.array([1640995200, 1640995210, 1640995220, 1640995230, 1640995240])\n",
    "\n",
    "# A target Unix time\n",
    "target_t = 1640995225\n",
    "\n",
    "# Calculate the index of the closest time\n",
    "index = np.abs(time - target_t).argmin()\n",
    "\n",
    "print(\"Index of closest time:\", index)\n",
    "print(\"Closest time to target:\", time[index])"
   ]
  }
 ],
 "metadata": {
  "kernelspec": {
   "display_name": "base",
   "language": "python",
   "name": "python3"
  },
  "language_info": {
   "codemirror_mode": {
    "name": "ipython",
    "version": 3
   },
   "file_extension": ".py",
   "mimetype": "text/x-python",
   "name": "python",
   "nbconvert_exporter": "python",
   "pygments_lexer": "ipython3",
   "version": "3.8.8"
  }
 },
 "nbformat": 4,
 "nbformat_minor": 2
}
