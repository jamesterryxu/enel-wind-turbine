{
 "cells": [
  {
   "cell_type": "code",
   "execution_count": 3,
   "metadata": {},
   "outputs": [],
   "source": [
    "%load_ext autoreload\n",
    "%autoreload 2"
   ]
  },
  {
   "cell_type": "code",
   "execution_count": 4,
   "metadata": {},
   "outputs": [],
   "source": [
    "# Makes utils module visible\n",
    "# Note - this is probably bad practice, but will work with this at the moment\n",
    "import sys\n",
    "sys.path.append('../')"
   ]
  },
  {
   "cell_type": "code",
   "execution_count": 5,
   "metadata": {},
   "outputs": [],
   "source": [
    "import csv\n",
    "import pandas as pd\n",
    "import numpy as np\n",
    "\n",
    "from utils.utils import *"
   ]
  },
  {
   "cell_type": "code",
   "execution_count": null,
   "metadata": {},
   "outputs": [],
   "source": [
    "# For now, just decimate the files, will store into dictionary later"
   ]
  },
  {
   "cell_type": "code",
   "execution_count": 6,
   "metadata": {},
   "outputs": [
    {
     "name": "stdout",
     "output_type": "stream",
     "text": [
      "Decimating sensor_2024-03-07T143316-0600.h5\n"
     ]
    },
    {
     "ename": "MemoryError",
     "evalue": "Unable to allocate 17.8 GiB for an array with shape (795, 2999999) and data type float64",
     "output_type": "error",
     "traceback": [
      "\u001b[1;31m---------------------------------------------------------------------------\u001b[0m",
      "\u001b[1;31mMemoryError\u001b[0m                               Traceback (most recent call last)",
      "Cell \u001b[1;32mIn[6], line 3\u001b[0m\n\u001b[0;32m      1\u001b[0m \u001b[38;5;66;03m# directory of data file\u001b[39;00m\n\u001b[0;32m      2\u001b[0m das_dir \u001b[38;5;241m=\u001b[39m \u001b[38;5;124mr\u001b[39m\u001b[38;5;124m'\u001b[39m\u001b[38;5;124mF:\u001b[39m\u001b[38;5;124m\\\u001b[39m\u001b[38;5;124menel-data\u001b[39m\u001b[38;5;124m\\\u001b[39m\u001b[38;5;124mshort-exp-march-2024\u001b[39m\u001b[38;5;124m\\\u001b[39m\u001b[38;5;124mdas\u001b[39m\u001b[38;5;124m\\\u001b[39m\u001b[38;5;124mrecording_2024-03-07T14_33_15-0600\u001b[39m\u001b[38;5;124m'\u001b[39m\n\u001b[1;32m----> 3\u001b[0m \u001b[43mbatch_decim_to_100\u001b[49m\u001b[43m(\u001b[49m\u001b[43mdas_dir\u001b[49m\u001b[43m)\u001b[49m\n",
      "File \u001b[1;32mc:\\Users\\jxu20\\Documents\\research\\enel-wind-turbine\\python\\utils\\utils.py:163\u001b[0m, in \u001b[0;36mbatch_decim_to_100\u001b[1;34m(directory)\u001b[0m\n\u001b[0;32m    161\u001b[0m \u001b[38;5;66;03m# Extract the file name without the extension\u001b[39;00m\n\u001b[0;32m    162\u001b[0m name_without_ext \u001b[38;5;241m=\u001b[39m os\u001b[38;5;241m.\u001b[39mpath\u001b[38;5;241m.\u001b[39msplitext(file)[\u001b[38;5;241m0\u001b[39m]\n\u001b[1;32m--> 163\u001b[0m \u001b[43mdecim_to_100\u001b[49m\u001b[43m(\u001b[49m\u001b[43mdirectory\u001b[49m\u001b[43m,\u001b[49m\u001b[43m \u001b[49m\u001b[43mname_without_ext\u001b[49m\u001b[43m)\u001b[49m\n\u001b[0;32m    164\u001b[0m \u001b[38;5;28mprint\u001b[39m(\u001b[38;5;124mf\u001b[39m\u001b[38;5;124m\"\u001b[39m\u001b[38;5;132;01m{\u001b[39;00mfile\u001b[38;5;132;01m}\u001b[39;00m\u001b[38;5;124m decimated\u001b[39m\u001b[38;5;124m\"\u001b[39m)\n",
      "File \u001b[1;32mc:\\Users\\jxu20\\Documents\\research\\enel-wind-turbine\\python\\utils\\utils.py:73\u001b[0m, in \u001b[0;36mdecim_to_100\u001b[1;34m(directory_to_file, name_of_file, decim_factor)\u001b[0m\n\u001b[0;32m     70\u001b[0m phase_data \u001b[38;5;241m=\u001b[39m raw_data \u001b[38;5;241m/\u001b[39m \u001b[38;5;241m10430.378350470453\u001b[39m \u001b[38;5;66;03m# This is (2**15)/pi\u001b[39;00m\n\u001b[0;32m     72\u001b[0m \u001b[38;5;66;03m# UNWRAP PHASE_DECIM (RADIAN NUMBER) BEFORE DECIMATION \u001b[39;00m\n\u001b[1;32m---> 73\u001b[0m phase_data_unwrapped \u001b[38;5;241m=\u001b[39m \u001b[43mnp\u001b[49m\u001b[38;5;241;43m.\u001b[39;49m\u001b[43munwrap\u001b[49m\u001b[43m(\u001b[49m\u001b[43mphase_data\u001b[49m\u001b[43m,\u001b[49m\u001b[43maxis\u001b[49m\u001b[38;5;241;43m=\u001b[39;49m\u001b[38;5;241;43m1\u001b[39;49m\u001b[43m)\u001b[49m \u001b[38;5;66;03m# axis on time dimension\u001b[39;00m\n\u001b[0;32m     75\u001b[0m \u001b[38;5;66;03m# Decimate\u001b[39;00m\n\u001b[0;32m     76\u001b[0m \u001b[38;5;66;03m# 5000 Hz -> 100 Hz, decim_factor = 50\u001b[39;00m\n\u001b[0;32m     77\u001b[0m \u001b[38;5;66;03m# Get length of decimated vector\u001b[39;00m\n\u001b[0;32m     78\u001b[0m decim_length \u001b[38;5;241m=\u001b[39m \u001b[38;5;28mlen\u001b[39m(decimate(phase_data_unwrapped[\u001b[38;5;241m0\u001b[39m,:], decim_factor))\n",
      "File \u001b[1;32m<__array_function__ internals>:200\u001b[0m, in \u001b[0;36munwrap\u001b[1;34m(*args, **kwargs)\u001b[0m\n",
      "File \u001b[1;32mc:\\Users\\jxu20\\Anaconda3\\envs\\windshake\\lib\\site-packages\\numpy\\lib\\function_base.py:1749\u001b[0m, in \u001b[0;36munwrap\u001b[1;34m(p, discont, axis, period)\u001b[0m\n\u001b[0;32m   1746\u001b[0m     _nx\u001b[38;5;241m.\u001b[39mcopyto(ddmod, interval_high,\n\u001b[0;32m   1747\u001b[0m                where\u001b[38;5;241m=\u001b[39m(ddmod \u001b[38;5;241m==\u001b[39m interval_low) \u001b[38;5;241m&\u001b[39m (dd \u001b[38;5;241m>\u001b[39m \u001b[38;5;241m0\u001b[39m))\n\u001b[0;32m   1748\u001b[0m ph_correct \u001b[38;5;241m=\u001b[39m ddmod \u001b[38;5;241m-\u001b[39m dd\n\u001b[1;32m-> 1749\u001b[0m _nx\u001b[38;5;241m.\u001b[39mcopyto(ph_correct, \u001b[38;5;241m0\u001b[39m, where\u001b[38;5;241m=\u001b[39m\u001b[38;5;28;43mabs\u001b[39;49m\u001b[43m(\u001b[49m\u001b[43mdd\u001b[49m\u001b[43m)\u001b[49m \u001b[38;5;241m<\u001b[39m discont)\n\u001b[0;32m   1750\u001b[0m up \u001b[38;5;241m=\u001b[39m array(p, copy\u001b[38;5;241m=\u001b[39m\u001b[38;5;28;01mTrue\u001b[39;00m, dtype\u001b[38;5;241m=\u001b[39mdtype)\n\u001b[0;32m   1751\u001b[0m up[slice1] \u001b[38;5;241m=\u001b[39m p[slice1] \u001b[38;5;241m+\u001b[39m ph_correct\u001b[38;5;241m.\u001b[39mcumsum(axis)\n",
      "\u001b[1;31mMemoryError\u001b[0m: Unable to allocate 17.8 GiB for an array with shape (795, 2999999) and data type float64"
     ]
    }
   ],
   "source": [
    "# directory of data file\n",
    "das_dir = r'F:\\enel-data\\short-exp-march-2024\\das\\recording_2024-03-07T14_33_15-0600'\n",
    "batch_decim_to_100(das_dir)\n"
   ]
  },
  {
   "cell_type": "code",
   "execution_count": null,
   "metadata": {},
   "outputs": [],
   "source": [
    "concatenate_and_save_h5(directory_to_file=das_dir,\n",
    "                        output_filename='full')"
   ]
  },
  {
   "cell_type": "code",
   "execution_count": null,
   "metadata": {},
   "outputs": [],
   "source": [
    "das_dir = r'F:\\enel-data\\short-exp-march-2024\\das\\recording_2024-03-07T14_08_27-0600'\n",
    "batch_decim_to_100(das_dir)\n"
   ]
  },
  {
   "cell_type": "code",
   "execution_count": null,
   "metadata": {},
   "outputs": [],
   "source": [
    "das_dir = r'F:\\enel-data\\short-exp-march-2024\\das\\recording_2024-03-07T14_02_00-0600'\n",
    "batch_decim_to_100(das_dir)\n"
   ]
  },
  {
   "cell_type": "code",
   "execution_count": null,
   "metadata": {},
   "outputs": [],
   "source": []
  },
  {
   "cell_type": "code",
   "execution_count": null,
   "metadata": {},
   "outputs": [],
   "source": []
  },
  {
   "cell_type": "code",
   "execution_count": null,
   "metadata": {},
   "outputs": [],
   "source": []
  },
  {
   "cell_type": "code",
   "execution_count": null,
   "metadata": {},
   "outputs": [],
   "source": []
  }
 ],
 "metadata": {
  "kernelspec": {
   "display_name": "base",
   "language": "python",
   "name": "python3"
  },
  "language_info": {
   "codemirror_mode": {
    "name": "ipython",
    "version": 3
   },
   "file_extension": ".py",
   "mimetype": "text/x-python",
   "name": "python",
   "nbconvert_exporter": "python",
   "pygments_lexer": "ipython3",
   "version": "3.8.8"
  }
 },
 "nbformat": 4,
 "nbformat_minor": 2
}
