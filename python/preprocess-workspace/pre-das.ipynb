{
 "cells": [
  {
   "cell_type": "code",
   "execution_count": 1,
   "metadata": {},
   "outputs": [],
   "source": [
    "%load_ext autoreload\n",
    "%autoreload 2"
   ]
  },
  {
   "cell_type": "code",
   "execution_count": 2,
   "metadata": {},
   "outputs": [],
   "source": [
    "# Makes utils module visible\n",
    "# Note - this is probably bad practice, but will work with this at the moment\n",
    "import sys\n",
    "sys.path.append('../')"
   ]
  },
  {
   "cell_type": "code",
   "execution_count": 3,
   "metadata": {},
   "outputs": [],
   "source": [
    "import csv\n",
    "import pandas as pd\n",
    "import numpy as np\n",
    "\n",
    "from utils.utils import *"
   ]
  },
  {
   "cell_type": "markdown",
   "metadata": {},
   "source": [
    "For now, just decimate the files, will store into dictionary later"
   ]
  },
  {
   "cell_type": "code",
   "execution_count": 4,
   "metadata": {},
   "outputs": [
    {
     "name": "stdout",
     "output_type": "stream",
     "text": [
      "Decimating sensor_2024-03-07T121722-0600.h5\n",
      "sensor_2024-03-07T121722-0600.h5 decimated\n",
      "Decimating sensor_2024-03-07T121722-0600full.h5\n"
     ]
    },
    {
     "ename": "KeyError",
     "evalue": "'Unable to synchronously open object (component not found)'",
     "output_type": "error",
     "traceback": [
      "\u001b[1;31m---------------------------------------------------------------------------\u001b[0m",
      "\u001b[1;31mKeyError\u001b[0m                                  Traceback (most recent call last)",
      "Cell \u001b[1;32mIn[4], line 2\u001b[0m\n\u001b[0;32m      1\u001b[0m das_dir \u001b[38;5;241m=\u001b[39m \u001b[38;5;124mr\u001b[39m\u001b[38;5;124m'\u001b[39m\u001b[38;5;124mF:\u001b[39m\u001b[38;5;124m\\\u001b[39m\u001b[38;5;124menel-data\u001b[39m\u001b[38;5;124m\\\u001b[39m\u001b[38;5;124mshort-exp-march-2024\u001b[39m\u001b[38;5;124m\\\u001b[39m\u001b[38;5;124mdas\u001b[39m\u001b[38;5;124m\\\u001b[39m\u001b[38;5;124mrecording_2024-03-07T12_17_20-0600\u001b[39m\u001b[38;5;124m'\u001b[39m\n\u001b[1;32m----> 2\u001b[0m \u001b[43mbatch_decim_to_100\u001b[49m\u001b[43m(\u001b[49m\u001b[43mdas_dir\u001b[49m\u001b[43m)\u001b[49m\n\u001b[0;32m      3\u001b[0m concatenate_and_save_h5(directory_to_file\u001b[38;5;241m=\u001b[39mdas_dir,\n\u001b[0;32m      4\u001b[0m                         output_filename\u001b[38;5;241m=\u001b[39m\u001b[38;5;124m'\u001b[39m\u001b[38;5;124mfull\u001b[39m\u001b[38;5;124m'\u001b[39m)\n",
      "File \u001b[1;32mc:\\Users\\jxu20\\Documents\\research\\enel-wind-turbine\\python\\utils\\utils.py:172\u001b[0m, in \u001b[0;36mbatch_decim_to_100\u001b[1;34m(directory)\u001b[0m\n\u001b[0;32m    170\u001b[0m \u001b[38;5;66;03m# Extract the file name without the extension\u001b[39;00m\n\u001b[0;32m    171\u001b[0m name_without_ext \u001b[38;5;241m=\u001b[39m os\u001b[38;5;241m.\u001b[39mpath\u001b[38;5;241m.\u001b[39msplitext(file)[\u001b[38;5;241m0\u001b[39m]\n\u001b[1;32m--> 172\u001b[0m \u001b[43mdecim_to_100\u001b[49m\u001b[43m(\u001b[49m\u001b[43mdirectory\u001b[49m\u001b[43m,\u001b[49m\u001b[43m \u001b[49m\u001b[43mname_without_ext\u001b[49m\u001b[43m)\u001b[49m\n\u001b[0;32m    173\u001b[0m \u001b[38;5;28mprint\u001b[39m(\u001b[38;5;124mf\u001b[39m\u001b[38;5;124m\"\u001b[39m\u001b[38;5;132;01m{\u001b[39;00mfile\u001b[38;5;132;01m}\u001b[39;00m\u001b[38;5;124m decimated\u001b[39m\u001b[38;5;124m\"\u001b[39m)\n",
      "File \u001b[1;32mc:\\Users\\jxu20\\Documents\\research\\enel-wind-turbine\\python\\utils\\utils.py:68\u001b[0m, in \u001b[0;36mdecim_to_100\u001b[1;34m(directory_to_file, name_of_file, decim_factor)\u001b[0m\n\u001b[0;32m     66\u001b[0m file \u001b[38;5;241m=\u001b[39m h5py\u001b[38;5;241m.\u001b[39mFile(directory_to_file\u001b[38;5;241m+\u001b[39m\u001b[38;5;124m'\u001b[39m\u001b[38;5;124m/\u001b[39m\u001b[38;5;124m'\u001b[39m\u001b[38;5;241m+\u001b[39mname_of_file\u001b[38;5;241m+\u001b[39m\u001b[38;5;124m'\u001b[39m\u001b[38;5;124m.h5\u001b[39m\u001b[38;5;124m'\u001b[39m, \u001b[38;5;124m'\u001b[39m\u001b[38;5;124mr\u001b[39m\u001b[38;5;124m'\u001b[39m)\n\u001b[0;32m     67\u001b[0m \u001b[38;5;66;03m# Read the dataset\u001b[39;00m\n\u001b[1;32m---> 68\u001b[0m raw_data \u001b[38;5;241m=\u001b[39m \u001b[43mfile\u001b[49m\u001b[43m[\u001b[49m\u001b[38;5;124;43m'\u001b[39;49m\u001b[38;5;124;43m/Acquisition/Raw[0]/RawData\u001b[39;49m\u001b[38;5;124;43m'\u001b[39;49m\u001b[43m]\u001b[49m\n\u001b[0;32m     69\u001b[0m raw_data \u001b[38;5;241m=\u001b[39m np\u001b[38;5;241m.\u001b[39mdouble(raw_data) \u001b[38;5;66;03m# Convert to double\u001b[39;00m\n\u001b[0;32m     70\u001b[0m \u001b[38;5;66;03m# Transpose data\u001b[39;00m\n",
      "File \u001b[1;32mh5py\\_objects.pyx:54\u001b[0m, in \u001b[0;36mh5py._objects.with_phil.wrapper\u001b[1;34m()\u001b[0m\n",
      "File \u001b[1;32mh5py\\_objects.pyx:55\u001b[0m, in \u001b[0;36mh5py._objects.with_phil.wrapper\u001b[1;34m()\u001b[0m\n",
      "File \u001b[1;32mc:\\Users\\jxu20\\Anaconda3\\envs\\windshake\\lib\\site-packages\\h5py\\_hl\\group.py:357\u001b[0m, in \u001b[0;36mGroup.__getitem__\u001b[1;34m(self, name)\u001b[0m\n\u001b[0;32m    355\u001b[0m         \u001b[38;5;28;01mraise\u001b[39;00m \u001b[38;5;167;01mValueError\u001b[39;00m(\u001b[38;5;124m\"\u001b[39m\u001b[38;5;124mInvalid HDF5 object reference\u001b[39m\u001b[38;5;124m\"\u001b[39m)\n\u001b[0;32m    356\u001b[0m \u001b[38;5;28;01melif\u001b[39;00m \u001b[38;5;28misinstance\u001b[39m(name, (\u001b[38;5;28mbytes\u001b[39m, \u001b[38;5;28mstr\u001b[39m)):\n\u001b[1;32m--> 357\u001b[0m     oid \u001b[38;5;241m=\u001b[39m \u001b[43mh5o\u001b[49m\u001b[38;5;241;43m.\u001b[39;49m\u001b[43mopen\u001b[49m\u001b[43m(\u001b[49m\u001b[38;5;28;43mself\u001b[39;49m\u001b[38;5;241;43m.\u001b[39;49m\u001b[43mid\u001b[49m\u001b[43m,\u001b[49m\u001b[43m \u001b[49m\u001b[38;5;28;43mself\u001b[39;49m\u001b[38;5;241;43m.\u001b[39;49m\u001b[43m_e\u001b[49m\u001b[43m(\u001b[49m\u001b[43mname\u001b[49m\u001b[43m)\u001b[49m\u001b[43m,\u001b[49m\u001b[43m \u001b[49m\u001b[43mlapl\u001b[49m\u001b[38;5;241;43m=\u001b[39;49m\u001b[38;5;28;43mself\u001b[39;49m\u001b[38;5;241;43m.\u001b[39;49m\u001b[43m_lapl\u001b[49m\u001b[43m)\u001b[49m\n\u001b[0;32m    358\u001b[0m \u001b[38;5;28;01melse\u001b[39;00m:\n\u001b[0;32m    359\u001b[0m     \u001b[38;5;28;01mraise\u001b[39;00m \u001b[38;5;167;01mTypeError\u001b[39;00m(\u001b[38;5;124m\"\u001b[39m\u001b[38;5;124mAccessing a group is done with bytes or str, \u001b[39m\u001b[38;5;124m\"\u001b[39m\n\u001b[0;32m    360\u001b[0m                     \u001b[38;5;124m\"\u001b[39m\u001b[38;5;124mnot \u001b[39m\u001b[38;5;132;01m{}\u001b[39;00m\u001b[38;5;124m\"\u001b[39m\u001b[38;5;241m.\u001b[39mformat(\u001b[38;5;28mtype\u001b[39m(name)))\n",
      "File \u001b[1;32mh5py\\_objects.pyx:54\u001b[0m, in \u001b[0;36mh5py._objects.with_phil.wrapper\u001b[1;34m()\u001b[0m\n",
      "File \u001b[1;32mh5py\\_objects.pyx:55\u001b[0m, in \u001b[0;36mh5py._objects.with_phil.wrapper\u001b[1;34m()\u001b[0m\n",
      "File \u001b[1;32mh5py\\h5o.pyx:189\u001b[0m, in \u001b[0;36mh5py.h5o.open\u001b[1;34m()\u001b[0m\n",
      "\u001b[1;31mKeyError\u001b[0m: 'Unable to synchronously open object (component not found)'"
     ]
    }
   ],
   "source": [
    "das_dir = r'F:\\enel-data\\short-exp-march-2024\\das\\recording_2024-03-07T12_17_20-0600'\n",
    "batch_decim_to_100(das_dir)\n",
    "concatenate_and_save_h5(directory_to_file=das_dir,\n",
    "                        output_filename='full')"
   ]
  },
  {
   "cell_type": "code",
   "execution_count": null,
   "metadata": {},
   "outputs": [],
   "source": [
    "das_dir = r'F:\\enel-data\\short-exp-march-2024\\das\\recording_2024-03-07T10_28_58-0600'\n",
    "batch_decim_to_100(das_dir)\n",
    "concatenate_and_save_h5(directory_to_file=das_dir,\n",
    "                        output_filename='full')"
   ]
  },
  {
   "cell_type": "code",
   "execution_count": null,
   "metadata": {},
   "outputs": [],
   "source": []
  },
  {
   "cell_type": "markdown",
   "metadata": {},
   "source": [
    "Cut up the decimated files"
   ]
  },
  {
   "cell_type": "code",
   "execution_count": 4,
   "metadata": {},
   "outputs": [
    {
     "name": "stdout",
     "output_type": "stream",
     "text": [
      "(134440, 795)\n",
      "(132994, 20)\n",
      "927 133921\n"
     ]
    }
   ],
   "source": [
    "das_dir = r'F:\\enel-data\\short-exp-march-2024\\das\\recording_2024-03-07T12_56_48-0600'\n",
    "input_file_name = 'sensor_2024-03-07T125650-0600full'\n",
    "output_file_name = 'idle-bc3'\n",
    "\n",
    "test = clean_das_files_odh4(directory_to_file=das_dir,\n",
    "                     input_file_name=input_file_name,\n",
    "                     output_file_name=output_file_name,\n",
    "                     target_time=['2024-03-07 18:57:00', '2024-03-07 19:19:10'])"
   ]
  },
  {
   "cell_type": "code",
   "execution_count": 23,
   "metadata": {},
   "outputs": [],
   "source": [
    "das_dir = r'F:\\enel-data\\short-exp-march-2024\\das\\recording_2024-03-07T14_33_15-0600'\n",
    "input_file_name = 'sensor_2024-03-07T143316-0600full'\n",
    "output_file_name = 'idle-bc4'\n",
    "\n",
    "test = clean_das_files_odh4(directory_to_file=das_dir,\n",
    "                     input_file_name=input_file_name,\n",
    "                     output_file_name=output_file_name,\n",
    "                     target_time=['2024-03-07 20:33:00', '2024-03-07 20:56:40'])"
   ]
  },
  {
   "cell_type": "code",
   "execution_count": null,
   "metadata": {},
   "outputs": [],
   "source": []
  },
  {
   "cell_type": "code",
   "execution_count": null,
   "metadata": {},
   "outputs": [],
   "source": []
  },
  {
   "cell_type": "markdown",
   "metadata": {},
   "source": [
    "Now to filter datasets"
   ]
  },
  {
   "cell_type": "code",
   "execution_count": null,
   "metadata": {},
   "outputs": [
    {
     "name": "stderr",
     "output_type": "stream",
     "text": [
      "..\\utils\\utils.py:402: UserWarning: Time intervals are not uniform.\n",
      "  warnings.warn('Time intervals are not uniform.', UserWarning)\n"
     ]
    },
    {
     "name": "stdout",
     "output_type": "stream",
     "text": [
      "100.0\n"
     ]
    }
   ],
   "source": [
    "das_dir = r'F:\\enel-data\\short-exp-march-2024\\das\\cut-data'\n",
    "input_file_name = 'operation-bc1'\n",
    "\n",
    "filter_das_data(directory_to_file=das_dir,\n",
    "                input_file_name=input_file_name,\n",
    "                cutoff_freq=0.1,\n",
    "                order=2)"
   ]
  },
  {
   "cell_type": "code",
   "execution_count": null,
   "metadata": {},
   "outputs": [],
   "source": []
  },
  {
   "cell_type": "markdown",
   "metadata": {},
   "source": [
    "Get the min and max strain envelopes (NOTE: don't take the min and max from the raw output, can be misleading)"
   ]
  },
  {
   "cell_type": "code",
   "execution_count": null,
   "metadata": {},
   "outputs": [],
   "source": [
    "das_dir = r'F:\\enel-data\\short-exp-march-2024\\das\\cut-data'\n",
    "input_file_name = 'operation-bc1_filtered'\n",
    "\n",
    "min_max_das_data(directory_to_file=das_dir,\n",
    "                 input_file_name=input_file_name)"
   ]
  },
  {
   "cell_type": "code",
   "execution_count": 6,
   "metadata": {},
   "outputs": [],
   "source": [
    "# Checking envelopes\n",
    "das_dir = r'F:\\enel-data\\short-exp-march-2024\\das\\cut-data'\n",
    "input_file_name = 'operation-bc1_filtered_envelopes'\n",
    "\n",
    "strain_min,strain_max,_,time = load_min_max_das_data(directory_to_file=das_dir,\n",
    "                                                     input_file_name=input_file_name)"
   ]
  },
  {
   "cell_type": "code",
   "execution_count": 7,
   "metadata": {},
   "outputs": [
    {
     "name": "stdout",
     "output_type": "stream",
     "text": [
      "[  -8762.17674899  -30020.79637173  -91152.0529598  -153088.14856059\n",
      " -164367.90634854 -162568.35958306 -155385.33476886 -141243.05101836\n",
      " -138922.44578421 -126113.29684716 -126675.93974328 -126015.06810377\n",
      " -131084.36077546 -111156.76199224 -109755.95732478  -96642.27333468\n",
      "  -90694.9977377   -92339.24775368  -77483.09549144  -49863.44602208]\n",
      "[  8961.15106483  23828.11586664 102501.40678513 148039.40535381\n",
      " 171958.99038147 163690.42026864 152576.56261702 146182.20639014\n",
      " 147344.62447802 134511.12760034 128871.36152898 129997.94035082\n",
      " 132606.27498555 116930.28014009 113661.80828492  97525.72488416\n",
      "  99084.3010492   92120.9345793   81404.35552822  51999.33896609]\n",
      "[0.01772333 0.05384891 0.19365346 0.30112755 0.3363269  0.32625878\n",
      " 0.3079619  0.28742526 0.28626707 0.26062442 0.2555473  0.25601301\n",
      " 0.26369064 0.22808704 0.22341777 0.194168   0.1897793  0.18446018\n",
      " 0.15888745 0.10186278]\n",
      "1.0\n"
     ]
    }
   ],
   "source": [
    "print(strain_min['bot_a'])\n",
    "print(strain_max['bot_a'])\n",
    "print((strain_max['bot_a'] - strain_min['bot_a'])*1e-6)\n"
   ]
  },
  {
   "cell_type": "code",
   "execution_count": null,
   "metadata": {},
   "outputs": [],
   "source": []
  },
  {
   "cell_type": "code",
   "execution_count": null,
   "metadata": {},
   "outputs": [],
   "source": []
  },
  {
   "cell_type": "markdown",
   "metadata": {},
   "source": [
    "# Plotting"
   ]
  },
  {
   "cell_type": "code",
   "execution_count": 8,
   "metadata": {},
   "outputs": [],
   "source": [
    "from utils.plotting import *"
   ]
  },
  {
   "cell_type": "code",
   "execution_count": null,
   "metadata": {},
   "outputs": [],
   "source": []
  }
 ],
 "metadata": {
  "kernelspec": {
   "display_name": "base",
   "language": "python",
   "name": "python3"
  },
  "language_info": {
   "codemirror_mode": {
    "name": "ipython",
    "version": 3
   },
   "file_extension": ".py",
   "mimetype": "text/x-python",
   "name": "python",
   "nbconvert_exporter": "python",
   "pygments_lexer": "ipython3",
   "version": "3.8.8"
  }
 },
 "nbformat": 4,
 "nbformat_minor": 2
}
