{
 "cells": [
  {
   "cell_type": "code",
   "execution_count": null,
   "metadata": {},
   "outputs": [],
   "source": [
    "%load_ext autoreload\n",
    "%autoreload 2"
   ]
  },
  {
   "cell_type": "code",
   "execution_count": null,
   "metadata": {},
   "outputs": [],
   "source": [
    "# Makes utils module visible\n",
    "# Note - this is probably bad practice, but will work with this at the moment\n",
    "import sys\n",
    "sys.path.append('../')"
   ]
  },
  {
   "cell_type": "code",
   "execution_count": null,
   "metadata": {},
   "outputs": [],
   "source": [
    "import csv\n",
    "import pandas as pd\n",
    "import numpy as np\n",
    "\n",
    "from utils.utils import *"
   ]
  },
  {
   "cell_type": "code",
   "execution_count": null,
   "metadata": {},
   "outputs": [],
   "source": [
    "# directory of data file\n",
    "luna_dir = r'F:\\enel-data\\short-exp-march-2024\\luna\\Test_loosen_bolt_e_03-07-24_bolt6-loose_2024-03-07_18-14-39_ch1_gages.tsv'\n"
   ]
  },
  {
   "cell_type": "code",
   "execution_count": null,
   "metadata": {},
   "outputs": [],
   "source": [
    "luna_data = pd.read_csv(luna_dir,sep='\\t',skiprows=32)\n",
    "luna_data_values = luna_data.values\n"
   ]
  },
  {
   "cell_type": "code",
   "execution_count": null,
   "metadata": {},
   "outputs": [],
   "source": [
    "for col in luna_data.columns:\n",
    "    print(col)"
   ]
  },
  {
   "cell_type": "code",
   "execution_count": null,
   "metadata": {},
   "outputs": [],
   "source": [
    "print(np.shape(luna_data))\n",
    "print(luna_data)\n"
   ]
  },
  {
   "cell_type": "code",
   "execution_count": null,
   "metadata": {},
   "outputs": [],
   "source": [
    "print(type(luna_data.iloc[:,0]))"
   ]
  },
  {
   "cell_type": "code",
   "execution_count": null,
   "metadata": {},
   "outputs": [],
   "source": [
    "# Turn datetime str into datetime objects\n",
    "\n",
    "luna_data.iloc[:,0] = pd.to_datetime(luna_data.iloc[:,0], format='%Y-%m-%d %H:%M:%S.%f')\n",
    "print(luna_data.iloc[:, 0].head())\n"
   ]
  },
  {
   "cell_type": "code",
   "execution_count": null,
   "metadata": {},
   "outputs": [],
   "source": [
    "target_datetime = pd.Timestamp('2024-03-07 18:19:17')\n"
   ]
  },
  {
   "cell_type": "code",
   "execution_count": null,
   "metadata": {},
   "outputs": [],
   "source": [
    "# Try to get the index that is closest to the target_datetime!\n",
    "\n",
    "time_diff = (luna_data.iloc[:,0] - target_datetime).abs()\n",
    "closest_index = time_diff.idxmin()"
   ]
  },
  {
   "cell_type": "code",
   "execution_count": null,
   "metadata": {},
   "outputs": [],
   "source": [
    "print(closest_index)\n",
    "print(luna_data.iloc[closest_index,0])"
   ]
  },
  {
   "cell_type": "code",
   "execution_count": null,
   "metadata": {},
   "outputs": [],
   "source": [
    "start_datetime = pd.Timestamp('2024-03-07 18:17:25')\n",
    "end_datetime = pd.Timestamp('2024-03-07 18:19:17')"
   ]
  },
  {
   "cell_type": "code",
   "execution_count": null,
   "metadata": {},
   "outputs": [],
   "source": [
    "time_diff_start = (luna_data.iloc[:,0] - start_datetime).abs()\n",
    "time_diff_end = (luna_data.iloc[:,0] - end_datetime).abs()\n",
    "\n",
    "start_time_index = time_diff_start.idxmin()\n",
    "end_time_index = time_diff_end.idxmin()\n"
   ]
  },
  {
   "cell_type": "code",
   "execution_count": null,
   "metadata": {},
   "outputs": [],
   "source": [
    "print(start_time_index,end_time_index)"
   ]
  },
  {
   "cell_type": "code",
   "execution_count": null,
   "metadata": {},
   "outputs": [],
   "source": [
    "start_spatial_index = luna_data.columns.get_loc('0.08.1')\n",
    "end_spatial_index = luna_data.columns.get_loc('87.8066.1')\n",
    "\n"
   ]
  },
  {
   "cell_type": "code",
   "execution_count": null,
   "metadata": {},
   "outputs": [],
   "source": [
    "# Calculate which column should be the start and end for the different loops\n",
    "start_top_loop = luna_data.columns.get_loc('75.7894.1')\n",
    "end_top_loop = luna_data.columns.get_loc('87.5726.1')\n",
    "start_bot_loop = luna_data.columns.get_loc('36.3708.1')\n",
    "end_bot_loop = luna_data.columns.get_loc('49.7738.1')"
   ]
  },
  {
   "cell_type": "code",
   "execution_count": null,
   "metadata": {},
   "outputs": [],
   "source": [
    "print(start_bot_loop)\n",
    "print(end_bot_loop)\n",
    "print(start_top_loop)\n",
    "print(end_top_loop)\n"
   ]
  },
  {
   "cell_type": "code",
   "execution_count": null,
   "metadata": {},
   "outputs": [],
   "source": [
    "# Slice by time first, +1 for slicing rules, want end inclusive row\n",
    "time_sliced_data = luna_data.iloc[start_time_index:end_time_index+1]\n",
    "\n",
    "print(np.shape(time_sliced_data))\n"
   ]
  },
  {
   "cell_type": "code",
   "execution_count": null,
   "metadata": {},
   "outputs": [],
   "source": [
    "# initialize dictionary to store data which will be saved\n",
    "luna_data_cut = {}\n",
    "\n",
    "luna_data_cut['time'] = time_sliced_data.iloc[:,0]\n",
    "luna_data_cut['top-loop'] = time_sliced_data.iloc[:,start_top_loop:end_top_loop+1].values\n",
    "luna_data_cut['bot-loop'] = time_sliced_data.iloc[:,start_bot_loop:end_bot_loop+1]\n"
   ]
  },
  {
   "cell_type": "code",
   "execution_count": null,
   "metadata": {},
   "outputs": [],
   "source": [
    "print(np.size(luna_data_cut['time']))\n",
    "print(np.shape(luna_data_cut['time'].values))\n",
    "print(np.shape(luna_data_cut['top-loop'].values))"
   ]
  },
  {
   "cell_type": "code",
   "execution_count": null,
   "metadata": {},
   "outputs": [],
   "source": [
    "print(luna_data_cut['time'])"
   ]
  },
  {
   "cell_type": "code",
   "execution_count": null,
   "metadata": {},
   "outputs": [],
   "source": [
    "test = (luna_data_cut['time'] - pd.Timestamp(\"1970-01-01\")) // pd.Timedelta('1us')"
   ]
  },
  {
   "cell_type": "code",
   "execution_count": null,
   "metadata": {},
   "outputs": [],
   "source": [
    "print(test)\n",
    "print(type(test.values))\n",
    "print(np.shape(test.values))"
   ]
  },
  {
   "cell_type": "code",
   "execution_count": null,
   "metadata": {},
   "outputs": [],
   "source": [
    "time_list = [datetime.datetime.fromtimestamp(i/1000000) for i in test.values]"
   ]
  },
  {
   "cell_type": "code",
   "execution_count": null,
   "metadata": {},
   "outputs": [],
   "source": [
    "print(time_list)"
   ]
  },
  {
   "cell_type": "code",
   "execution_count": null,
   "metadata": {},
   "outputs": [],
   "source": []
  },
  {
   "cell_type": "code",
   "execution_count": null,
   "metadata": {},
   "outputs": [],
   "source": [
    "print(np.shape(luna_data.iloc[start_time_index:end_time_index+1,start_top_loop:end_top_loop+1]))"
   ]
  },
  {
   "cell_type": "code",
   "execution_count": null,
   "metadata": {},
   "outputs": [],
   "source": [
    "luna_dir = r'F:\\enel-data\\short-exp-march-2024\\luna'\n",
    "input_file_name = 'Test_03-08-24_all_tight_2024-03-08_17-54-47_ch1_gages.tsv'\n",
    "# output_file_name = 'operation-bc5'\n",
    "\n",
    "# target_time = ['2024-03-08 14:28:00', '2024-03-08 14:42:00']\n",
    "# clean_luna_files(directory_to_file=luna_dir,\n",
    "#                  input_file_name=input_file_name,\n",
    "#                  output_file_name=output_file_name,\n",
    "#                  target_time=target_time)"
   ]
  },
  {
   "cell_type": "code",
   "execution_count": null,
   "metadata": {},
   "outputs": [],
   "source": [
    "output_file_name = 'idle-bc6'\n",
    "\n",
    "target_time = ['2024-03-08 18:00:45', '2024-03-08 18:21:20']\n",
    "clean_luna_files(directory_to_file=luna_dir,\n",
    "                 input_file_name=input_file_name,\n",
    "                 output_file_name=output_file_name,\n",
    "                 target_time=target_time)"
   ]
  },
  {
   "cell_type": "code",
   "execution_count": null,
   "metadata": {},
   "outputs": [],
   "source": [
    "output_file_name = 'brake-bc6'\n",
    "\n",
    "target_time = ['2024-03-08 18:26:40', '2024-03-08 18:37:00']\n",
    "clean_luna_files(directory_to_file=luna_dir,\n",
    "                 input_file_name=input_file_name,\n",
    "                 output_file_name=output_file_name,\n",
    "                 target_time=target_time)"
   ]
  },
  {
   "cell_type": "code",
   "execution_count": null,
   "metadata": {},
   "outputs": [],
   "source": [
    "input_file_name = 'Test_yaw_nacelle_03-08-24_all_tight_2024-03-08_18-39-30_ch1_gages.tsv'\n",
    "\n",
    "output_file_name = 'yawing-bc6'\n",
    "\n",
    "target_time = ['2024-03-08 18:43:10', '2024-03-08 18:51:00']\n",
    "clean_luna_files(directory_to_file=luna_dir,\n",
    "                 input_file_name=input_file_name,\n",
    "                 output_file_name=output_file_name,\n",
    "                 target_time=target_time)"
   ]
  },
  {
   "cell_type": "code",
   "execution_count": null,
   "metadata": {},
   "outputs": [],
   "source": [
    "input_file_name = 'Test_hammer_03-08-24_all_tight_2024-03-08_18-55-23_ch1_gages.tsv'\n",
    "\n",
    "output_file_name = 'hammer-bc6'\n",
    "\n",
    "target_time = ['2024-03-08 19:02:06', '2024-03-08 19:13:25']\n",
    "clean_luna_files(directory_to_file=luna_dir,\n",
    "                 input_file_name=input_file_name,\n",
    "                 output_file_name=output_file_name,\n",
    "                 target_time=target_time)"
   ]
  },
  {
   "cell_type": "code",
   "execution_count": null,
   "metadata": {},
   "outputs": [],
   "source": [
    "input_file_name = 'Test_tighten_03-08-24_bolt6-loose-bolt-a_2024-03-08_16-44-26_ch1_gages.tsv'\n",
    "\n",
    "output_file_name = 'bolt-tight-bc5-bc6'\n",
    "\n",
    "target_time = ['2024-03-08 16:48:20', '2024-03-08 17:41:00']\n",
    "clean_luna_files(directory_to_file=luna_dir,\n",
    "                 input_file_name=input_file_name,\n",
    "                 output_file_name=output_file_name,\n",
    "                 target_time=target_time)"
   ]
  }
 ],
 "metadata": {
  "kernelspec": {
   "display_name": "base",
   "language": "python",
   "name": "python3"
  },
  "language_info": {
   "codemirror_mode": {
    "name": "ipython",
    "version": 3
   },
   "file_extension": ".py",
   "mimetype": "text/x-python",
   "name": "python",
   "nbconvert_exporter": "python",
   "pygments_lexer": "ipython3",
   "version": "3.8.8"
  }
 },
 "nbformat": 4,
 "nbformat_minor": 2
}
