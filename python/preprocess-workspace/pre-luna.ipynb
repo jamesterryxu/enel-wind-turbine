{
 "cells": [
  {
   "cell_type": "code",
   "execution_count": 35,
   "metadata": {},
   "outputs": [
    {
     "name": "stdout",
     "output_type": "stream",
     "text": [
      "The autoreload extension is already loaded. To reload it, use:\n",
      "  %reload_ext autoreload\n"
     ]
    }
   ],
   "source": [
    "%load_ext autoreload\n",
    "%autoreload 2"
   ]
  },
  {
   "cell_type": "code",
   "execution_count": 36,
   "metadata": {},
   "outputs": [],
   "source": [
    "# Makes utils module visible\n",
    "# Note - this is probably bad practice, but will work with this at the moment\n",
    "import sys\n",
    "sys.path.append('../')"
   ]
  },
  {
   "cell_type": "code",
   "execution_count": 37,
   "metadata": {},
   "outputs": [],
   "source": [
    "import csv\n",
    "import pandas as pd\n",
    "import numpy as np\n",
    "\n",
    "from utils.utils import *"
   ]
  },
  {
   "cell_type": "code",
   "execution_count": null,
   "metadata": {},
   "outputs": [],
   "source": [
    "print(np.shape(luna_data.iloc[start_time_index:end_time_index+1,start_top_loop:end_top_loop+1]))"
   ]
  },
  {
   "cell_type": "code",
   "execution_count": null,
   "metadata": {},
   "outputs": [],
   "source": [
    "luna_dir = r'F:\\enel-data\\short-exp-march-2024\\luna'\n",
    "input_file_name = 'Test_03-08-24_all_tight_2024-03-08_17-54-47_ch1_gages.tsv'\n",
    "# output_file_name = 'operation-bc5'\n",
    "\n",
    "# target_time = ['2024-03-08 14:28:00', '2024-03-08 14:42:00']\n",
    "# clean_luna_files(directory_to_file=luna_dir,\n",
    "#                  input_file_name=input_file_name,\n",
    "#                  output_file_name=output_file_name,\n",
    "#                  target_time=target_time)"
   ]
  },
  {
   "cell_type": "code",
   "execution_count": null,
   "metadata": {},
   "outputs": [],
   "source": [
    "output_file_name = 'idle-bc6'\n",
    "\n",
    "target_time = ['2024-03-08 18:00:45', '2024-03-08 18:21:20']\n",
    "clean_luna_files(directory_to_file=luna_dir,\n",
    "                 input_file_name=input_file_name,\n",
    "                 output_file_name=output_file_name,\n",
    "                 target_time=target_time)"
   ]
  },
  {
   "cell_type": "code",
   "execution_count": null,
   "metadata": {},
   "outputs": [],
   "source": [
    "output_file_name = 'brake-bc6'\n",
    "\n",
    "target_time = ['2024-03-08 18:26:40', '2024-03-08 18:37:00']\n",
    "clean_luna_files(directory_to_file=luna_dir,\n",
    "                 input_file_name=input_file_name,\n",
    "                 output_file_name=output_file_name,\n",
    "                 target_time=target_time)"
   ]
  },
  {
   "cell_type": "code",
   "execution_count": 14,
   "metadata": {},
   "outputs": [],
   "source": [
    "luna_dir = r'F:\\enel-data\\short-exp-march-2024\\luna'\n",
    "input_file_name = 'brake-bc1'\n",
    "\n",
    "top_loop, bot_loop = datum_retriever_luna_data(directory_to_file=luna_dir,\n",
    "                                     input_file_name=input_file_name,\n",
    "                                     number_of_seconds=60)"
   ]
  },
  {
   "cell_type": "code",
   "execution_count": 29,
   "metadata": {},
   "outputs": [],
   "source": []
  },
  {
   "cell_type": "code",
   "execution_count": 54,
   "metadata": {},
   "outputs": [],
   "source": [
    "luna_dir = r'F:\\enel-data\\short-exp-march-2024\\luna'\n",
    "input_file_name = 'operation-bc1'\n",
    "zero_out_function_luna_data(directory_to_file=luna_dir,\n",
    "                            input_file_name=input_file_name,\n",
    "                            number_of_seconds=60)"
   ]
  },
  {
   "cell_type": "code",
   "execution_count": 55,
   "metadata": {},
   "outputs": [],
   "source": []
  },
  {
   "cell_type": "code",
   "execution_count": null,
   "metadata": {},
   "outputs": [],
   "source": []
  },
  {
   "cell_type": "code",
   "execution_count": null,
   "metadata": {},
   "outputs": [],
   "source": []
  }
 ],
 "metadata": {
  "kernelspec": {
   "display_name": "base",
   "language": "python",
   "name": "python3"
  },
  "language_info": {
   "codemirror_mode": {
    "name": "ipython",
    "version": 3
   },
   "file_extension": ".py",
   "mimetype": "text/x-python",
   "name": "python",
   "nbconvert_exporter": "python",
   "pygments_lexer": "ipython3",
   "version": "3.8.8"
  }
 },
 "nbformat": 4,
 "nbformat_minor": 2
}
